{
  "nbformat": 4,
  "nbformat_minor": 0,
  "metadata": {
    "colab": {
      "provenance": []
    },
    "kernelspec": {
      "name": "python3",
      "display_name": "Python 3"
    },
    "language_info": {
      "name": "python"
    }
  },
  "cells": [
    {
      "cell_type": "markdown",
      "source": [
        "# Installation & Imports"
      ],
      "metadata": {
        "id": "I6E1OkgTlFc6"
      }
    },
    {
      "cell_type": "code",
      "execution_count": null,
      "metadata": {
        "colab": {
          "base_uri": "https://localhost:8080/"
        },
        "id": "lZouuqrtVMop",
        "outputId": "95406b86-a154-4252-85e6-da663f68e30a"
      },
      "outputs": [
        {
          "output_type": "stream",
          "name": "stdout",
          "text": [
            "\u001b[2K     \u001b[90m━━━━━━━━━━━━━━━━━━━━━━━━━━━━━━━━━━━━━━━━\u001b[0m \u001b[32m206.3/206.3 kB\u001b[0m \u001b[31m3.8 MB/s\u001b[0m eta \u001b[36m0:00:00\u001b[0m\n",
            "\u001b[2K     \u001b[90m━━━━━━━━━━━━━━━━━━━━━━━━━━━━━━━━━━━━━━━━\u001b[0m \u001b[32m2.8/2.8 MB\u001b[0m \u001b[31m12.0 MB/s\u001b[0m eta \u001b[36m0:00:00\u001b[0m\n",
            "\u001b[2K     \u001b[90m━━━━━━━━━━━━━━━━━━━━━━━━━━━━━━━━━━━━━━━━\u001b[0m \u001b[32m75.6/75.6 kB\u001b[0m \u001b[31m9.8 MB/s\u001b[0m eta \u001b[36m0:00:00\u001b[0m\n",
            "\u001b[2K     \u001b[90m━━━━━━━━━━━━━━━━━━━━━━━━━━━━━━━━━━━━━━━━\u001b[0m \u001b[32m15.7/15.7 MB\u001b[0m \u001b[31m32.5 MB/s\u001b[0m eta \u001b[36m0:00:00\u001b[0m\n",
            "\u001b[2K     \u001b[90m━━━━━━━━━━━━━━━━━━━━━━━━━━━━━━━━━━━━━━━━\u001b[0m \u001b[32m6.8/6.8 MB\u001b[0m \u001b[31m52.9 MB/s\u001b[0m eta \u001b[36m0:00:00\u001b[0m\n",
            "\u001b[2K     \u001b[90m━━━━━━━━━━━━━━━━━━━━━━━━━━━━━━━━━━━━━━━━\u001b[0m \u001b[32m7.8/7.8 MB\u001b[0m \u001b[31m72.5 MB/s\u001b[0m eta \u001b[36m0:00:00\u001b[0m\n",
            "\u001b[2K     \u001b[90m━━━━━━━━━━━━━━━━━━━━━━━━━━━━━━━━━━━━━━━━\u001b[0m \u001b[32m294.6/294.6 kB\u001b[0m \u001b[31m30.6 MB/s\u001b[0m eta \u001b[36m0:00:00\u001b[0m\n",
            "\u001b[2K     \u001b[90m━━━━━━━━━━━━━━━━━━━━━━━━━━━━━━━━━━━━━━━━\u001b[0m \u001b[32m5.5/5.5 MB\u001b[0m \u001b[31m83.4 MB/s\u001b[0m eta \u001b[36m0:00:00\u001b[0m\n",
            "\u001b[2K     \u001b[90m━━━━━━━━━━━━━━━━━━━━━━━━━━━━━━━━━━━━━━━━\u001b[0m \u001b[32m77.8/77.8 kB\u001b[0m \u001b[31m10.2 MB/s\u001b[0m eta \u001b[36m0:00:00\u001b[0m\n",
            "\u001b[2K     \u001b[90m━━━━━━━━━━━━━━━━━━━━━━━━━━━━━━━━━━━━━━━━\u001b[0m \u001b[32m57.5/57.5 kB\u001b[0m \u001b[31m7.0 MB/s\u001b[0m eta \u001b[36m0:00:00\u001b[0m\n",
            "\u001b[2K     \u001b[90m━━━━━━━━━━━━━━━━━━━━━━━━━━━━━━━━━━━━━━━━\u001b[0m \u001b[32m58.3/58.3 kB\u001b[0m \u001b[31m6.9 MB/s\u001b[0m eta \u001b[36m0:00:00\u001b[0m\n",
            "\u001b[2K     \u001b[90m━━━━━━━━━━━━━━━━━━━━━━━━━━━━━━━━━━━━━━━━\u001b[0m \u001b[32m46.0/46.0 kB\u001b[0m \u001b[31m5.8 MB/s\u001b[0m eta \u001b[36m0:00:00\u001b[0m\n",
            "\u001b[2K     \u001b[90m━━━━━━━━━━━━━━━━━━━━━━━━━━━━━━━━━━━━━━━━\u001b[0m \u001b[32m86.8/86.8 kB\u001b[0m \u001b[31m10.8 MB/s\u001b[0m eta \u001b[36m0:00:00\u001b[0m\n",
            "\u001b[?25h\u001b[31mERROR: pip's dependency resolver does not currently take into account all the packages that are installed. This behaviour is the source of the following dependency conflicts.\n",
            "tensorflow-metadata 1.14.0 requires protobuf<4.21,>=3.20.3, but you have protobuf 4.25.3 which is incompatible.\n",
            "transformers 4.37.2 requires tokenizers<0.19,>=0.14, but you have tokenizers 0.13.3 which is incompatible.\u001b[0m\u001b[31m\n",
            "\u001b[0m"
          ]
        }
      ],
      "source": [
        "!pip install 'qdrant-client[fastembed]' --quiet --upgrade"
      ]
    },
    {
      "cell_type": "code",
      "source": [
        "from typing import List\n",
        "from qdrant_client import QdrantClient"
      ],
      "metadata": {
        "id": "LtzP1M1pVNiR"
      },
      "execution_count": null,
      "outputs": []
    },
    {
      "cell_type": "markdown",
      "source": [
        "# Dataset"
      ],
      "metadata": {
        "id": "bL6nB3D-lJPl"
      }
    },
    {
      "cell_type": "code",
      "source": [
        "documents: List[str] = [\n",
        "    \"Sachin Tendulkar was born on April 24, 1973, in Mumbai, India. He showed an early talent for cricket and was considered a child prodigy\",\n",
        "    \"He made his international debut for India at the age of 16 against Pakistan in Karachi in 1989, making him one of the youngest players ever to play for India\",\n",
        "    \"He holds numerous cricketing records, including the most runs in both Test and one-day internationals. He was the first player to score a double century in a One Day International (ODI) match\",\n",
        "    \"He has scored 100 international centuries (51 in Tests and 49 in ODIs), which is a world record. He was part of the Indian team that won the 2011 ICC Cricket World Cup\",\n",
        "    \"His performance in the tournament was instrumental in India's success. In 1997, he was awarded the Rajiv Gandhi Khel Ratna, India's highest honor given for achievement in sports. In 2014, he became the youngest recipient and the first sportsperson to receive the Bharat Ratna, India's highest civilian award\",\n",
        "    \"His international career spanned 24 years, from 1989 to 2013, during which he played 200 Test matches and 463 ODIs\",\n",
        "    \"After his international retirement, he continued to play in the Indian Premier League (IPL) for the Mumbai Indians until his retirement from all forms of cricket in 2013\",\n",
        "    \"He authored his autobiography, Playing It My Way, which was released in November 2014 and provides insights into his personal life and cricketing career\"\n",
        "    ]"
      ],
      "metadata": {
        "id": "WNtWivfMVNlB"
      },
      "execution_count": null,
      "outputs": []
    },
    {
      "cell_type": "code",
      "source": [
        "inp_collection_name = \"sachin_collection\""
      ],
      "metadata": {
        "id": "B1V7zWOWWuC7"
      },
      "execution_count": null,
      "outputs": []
    },
    {
      "cell_type": "markdown",
      "source": [
        "# DB Creation"
      ],
      "metadata": {
        "id": "iCJq6NcJlLGo"
      }
    },
    {
      "cell_type": "code",
      "source": [
        "client = QdrantClient(\":memory:\")\n",
        "client.add(collection_name= inp_collection_name, documents=documents)"
      ],
      "metadata": {
        "colab": {
          "base_uri": "https://localhost:8080/"
        },
        "id": "C5WjUjffVNoC",
        "outputId": "2ccee57a-1b55-4144-851a-3449c0a415d7"
      },
      "execution_count": null,
      "outputs": [
        {
          "output_type": "stream",
          "name": "stderr",
          "text": [
            "100%|██████████| 77.7M/77.7M [00:01<00:00, 51.5MiB/s]\n"
          ]
        },
        {
          "output_type": "execute_result",
          "data": {
            "text/plain": [
              "['0f9e73b5965943a588c9f83678b1f84b',\n",
              " 'f644481681054f8dae5f9f08a2191d01',\n",
              " 'b6bd657510874eb9a7c24356b4be8595',\n",
              " '359e993af92c471f81b2be4176e055a9',\n",
              " '09ed5a137464498abfd6e6de897abfbb',\n",
              " 'e6dca1a9b419455db88e2d941dfaa12b',\n",
              " '8b78e3d4d4ec4790a82ec3c919d56aa2',\n",
              " '4bd5eec18a694853a26265363e79ee03']"
            ]
          },
          "metadata": {},
          "execution_count": 5
        }
      ]
    },
    {
      "cell_type": "code",
      "source": [
        "client.get_collection(collection_name=inp_collection_name)"
      ],
      "metadata": {
        "colab": {
          "base_uri": "https://localhost:8080/"
        },
        "id": "cY5CysQ7XGby",
        "outputId": "760d1084-3054-4e9a-97c6-4d1f1c815c56"
      },
      "execution_count": null,
      "outputs": [
        {
          "output_type": "execute_result",
          "data": {
            "text/plain": [
              "CollectionInfo(status=<CollectionStatus.GREEN: 'green'>, optimizer_status=<OptimizersStatusOneOf.OK: 'ok'>, vectors_count=8, indexed_vectors_count=0, points_count=8, segments_count=1, config=CollectionConfig(params=CollectionParams(vectors={'fast-bge-small-en': VectorParams(size=384, distance=<Distance.COSINE: 'Cosine'>, hnsw_config=None, quantization_config=None, on_disk=None)}, shard_number=None, sharding_method=None, replication_factor=None, write_consistency_factor=None, read_fan_out_factor=None, on_disk_payload=None, sparse_vectors=None), hnsw_config=HnswConfig(m=16, ef_construct=100, full_scan_threshold=10000, max_indexing_threads=0, on_disk=None, payload_m=None), optimizer_config=OptimizersConfig(deleted_threshold=0.2, vacuum_min_vector_number=1000, default_segment_number=0, max_segment_size=None, memmap_threshold=None, indexing_threshold=20000, flush_interval_sec=5, max_optimization_threads=1), wal_config=WalConfig(wal_capacity_mb=32, wal_segments_ahead=0), quantization_config=None), payload_schema={})"
            ]
          },
          "metadata": {},
          "execution_count": 6
        }
      ]
    },
    {
      "cell_type": "code",
      "source": [
        "input_query_text = \"IPL?\""
      ],
      "metadata": {
        "id": "7nfLrEuIWi_j"
      },
      "execution_count": null,
      "outputs": []
    },
    {
      "cell_type": "code",
      "source": [
        "search_result = client.query(collection_name = inp_collection_name,\n",
        "                              query_text = input_query_text\n",
        "                             )"
      ],
      "metadata": {
        "id": "N1YON-4oWgDh"
      },
      "execution_count": null,
      "outputs": []
    },
    {
      "cell_type": "code",
      "source": [
        "for result in search_result:\n",
        "    print(result)"
      ],
      "metadata": {
        "colab": {
          "base_uri": "https://localhost:8080/"
        },
        "id": "AaxY_AohWgIl",
        "outputId": "ff6fef4f-f3af-4cf1-818f-0c33103ed55d"
      },
      "execution_count": null,
      "outputs": [
        {
          "output_type": "stream",
          "name": "stdout",
          "text": [
            "id='8b78e3d4d4ec4790a82ec3c919d56aa2' embedding=None metadata={'document': 'After his international retirement, he continued to play in the Indian Premier League (IPL) for the Mumbai Indians until his retirement from all forms of cricket in 2013'} document='After his international retirement, he continued to play in the Indian Premier League (IPL) for the Mumbai Indians until his retirement from all forms of cricket in 2013' score=0.8871456040640444\n",
            "id='0f9e73b5965943a588c9f83678b1f84b' embedding=None metadata={'document': 'Sachin Tendulkar was born on April 24, 1973, in Mumbai, India. He showed an early talent for cricket and was considered a child prodigy'} document='Sachin Tendulkar was born on April 24, 1973, in Mumbai, India. He showed an early talent for cricket and was considered a child prodigy' score=0.8736650217456607\n",
            "id='b6bd657510874eb9a7c24356b4be8595' embedding=None metadata={'document': 'He holds numerous cricketing records, including the most runs in both Test and one-day internationals. He was the first player to score a double century in a One Day International (ODI) match'} document='He holds numerous cricketing records, including the most runs in both Test and one-day internationals. He was the first player to score a double century in a One Day International (ODI) match' score=0.8643397731464106\n",
            "id='f644481681054f8dae5f9f08a2191d01' embedding=None metadata={'document': 'He made his international debut for India at the age of 16 against Pakistan in Karachi in 1989, making him one of the youngest players ever to play for India'} document='He made his international debut for India at the age of 16 against Pakistan in Karachi in 1989, making him one of the youngest players ever to play for India' score=0.862202847264591\n",
            "id='359e993af92c471f81b2be4176e055a9' embedding=None metadata={'document': 'He has scored 100 international centuries (51 in Tests and 49 in ODIs), which is a world record. He was part of the Indian team that won the 2011 ICC Cricket World Cup'} document='He has scored 100 international centuries (51 in Tests and 49 in ODIs), which is a world record. He was part of the Indian team that won the 2011 ICC Cricket World Cup' score=0.8611416113398933\n",
            "id='09ed5a137464498abfd6e6de897abfbb' embedding=None metadata={'document': \"His performance in the tournament was instrumental in India's success. In 1997, he was awarded the Rajiv Gandhi Khel Ratna, India's highest honor given for achievement in sports. In 2014, he became the youngest recipient and the first sportsperson to receive the Bharat Ratna, India's highest civilian award\"} document=\"His performance in the tournament was instrumental in India's success. In 1997, he was awarded the Rajiv Gandhi Khel Ratna, India's highest honor given for achievement in sports. In 2014, he became the youngest recipient and the first sportsperson to receive the Bharat Ratna, India's highest civilian award\" score=0.8576272436118428\n",
            "id='4bd5eec18a694853a26265363e79ee03' embedding=None metadata={'document': 'He authored his autobiography, Playing It My Way, which was released in November 2014 and provides insights into his personal life and cricketing career'} document='He authored his autobiography, Playing It My Way, which was released in November 2014 and provides insights into his personal life and cricketing career' score=0.8555103409973912\n",
            "id='e6dca1a9b419455db88e2d941dfaa12b' embedding=None metadata={'document': 'His international career spanned 24 years, from 1989 to 2013, during which he played 200 Test matches and 463 ODIs'} document='His international career spanned 24 years, from 1989 to 2013, during which he played 200 Test matches and 463 ODIs' score=0.8550901956230463\n"
          ]
        }
      ]
    },
    {
      "cell_type": "code",
      "source": [],
      "metadata": {
        "id": "H2D7GfuqZAW6"
      },
      "execution_count": null,
      "outputs": []
    }
  ]
}